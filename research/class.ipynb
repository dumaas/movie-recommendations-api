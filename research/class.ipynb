{
 "cells": [
  {
   "cell_type": "code",
   "execution_count": 1,
   "id": "d120abe5",
   "metadata": {},
   "outputs": [],
   "source": [
    "import joblib\n",
    "import pandas as pd"
   ]
  },
  {
   "cell_type": "code",
   "execution_count": 2,
   "id": "f8f61fd8",
   "metadata": {},
   "outputs": [],
   "source": [
    "class CosineSimPredictor:\n",
    "    def __init__(self):\n",
    "        path_to_artifacts = \"../research/\"\n",
    "        self.metadata = joblib.load(path_to_artifacts + \"metadata.joblib\")\n",
    "        self.model = joblib.load(path_to_artifacts + \"cosine_sim.joblib\")\n",
    "\n",
    "    def preprocessing(self, input_data):\n",
    "        return input_data['tmdbId']\n",
    "\n",
    "    def weighted_rating(self, x, m, C):\n",
    "        v = x['vote_count']\n",
    "        R = x['vote_average']\n",
    "        return (v / (v + m) * R) + (m / (m + v) * C)\n",
    "\n",
    "    def predict(self, tmdbId):\n",
    "        # disable warning for cleaner output\n",
    "        pd.set_option('mode.chained_assignment', None)\n",
    "\n",
    "        indices = pd.Series(self.metadata.index, index=self.metadata['tmdbId'])\n",
    "        index = indices[tmdbId]\n",
    "        sim_scores = list(enumerate(self.model[index]))\n",
    "        sim_scores = sorted(sim_scores, key=lambda x: x[1], reverse=True)\n",
    "        sim_scores = sim_scores[1:26]\n",
    "        movie_indices = [i[0] for i in sim_scores]\n",
    "\n",
    "        movies = self.metadata.iloc[movie_indices][['tmdbId', 'title', 'vote_count', 'vote_average']]\n",
    "        vote_counts = movies[movies['vote_count'].notnull()]['vote_count'].astype('int')\n",
    "        vote_averages = movies[movies['vote_average'].notnull()]['vote_average'].astype('int')\n",
    "        m = vote_counts.quantile(0.60)\n",
    "        C = vote_averages.mean()\n",
    "        qualified = movies[(movies['vote_count'] >= m) & (movies['vote_count'].notnull()) & (movies['vote_average'].notnull())]\n",
    "        qualified.vote_count = qualified.vote_count.astype('int')\n",
    "        qualified.vote_count = qualified.vote_count.astype('int')\n",
    "        qualified['wr'] = qualified.apply(self.weighted_rating, args=(m, C,), axis=1)\n",
    "        qualified = qualified.sort_values('wr', ascending=False).head(10)\n",
    "        return qualified.to_dict('records')\n",
    "\n",
    "    def postprocessing(self, result):\n",
    "        '''\n",
    "        returns:\n",
    "            movies object - list of 10 recommendations in order (tmdbId, name, weighted rating for each)\n",
    "            status\n",
    "\n",
    "            {'movies': [\n",
    "                {'tmdbId': 1873, 'title': 'The Dark Knight', 'wr': 7.830744},\n",
    "                {'tmdbId': 200, 'title': 'The Joker', 'wr': 7.852230},\n",
    "                ...\n",
    "              ],\n",
    "             'status': 'OK'\n",
    "            }\n",
    "        '''\n",
    "\n",
    "        return {\"movies\": result, \"status\": \"OK\"}\n",
    "\n",
    "    def compute_prediction(self, input_data):\n",
    "        try:\n",
    "            input_data = self.preprocessing(input_data)\n",
    "            prediction = self.predict(input_data)\n",
    "            prediction = self.postprocessing(prediction)\n",
    "        except Exception as e:\n",
    "            return {\"status\": \"Error\", \"message\": str(e)}\n",
    "        return prediction"
   ]
  },
  {
   "cell_type": "code",
   "execution_count": 3,
   "id": "e483e9f8",
   "metadata": {},
   "outputs": [],
   "source": [
    "test = CosineSimPredictor()"
   ]
  },
  {
   "cell_type": "code",
   "execution_count": 4,
   "id": "63352058",
   "metadata": {},
   "outputs": [
    {
     "data": {
      "text/plain": [
       "{'status': 'Error', 'message': '24428'}"
      ]
     },
     "execution_count": 4,
     "metadata": {},
     "output_type": "execute_result"
    }
   ],
   "source": [
    "input_data = {'tmdbId': 24428}\n",
    "test.compute_prediction(input_data)"
   ]
  },
  {
   "cell_type": "code",
   "execution_count": null,
   "id": "1268297b",
   "metadata": {},
   "outputs": [],
   "source": []
  }
 ],
 "metadata": {
  "kernelspec": {
   "display_name": "Python 3",
   "language": "python",
   "name": "python3"
  },
  "language_info": {
   "codemirror_mode": {
    "name": "ipython",
    "version": 3
   },
   "file_extension": ".py",
   "mimetype": "text/x-python",
   "name": "python",
   "nbconvert_exporter": "python",
   "pygments_lexer": "ipython3",
   "version": "3.8.5"
  }
 },
 "nbformat": 4,
 "nbformat_minor": 5
}
