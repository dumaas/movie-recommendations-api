{
 "cells": [
  {
   "cell_type": "code",
   "execution_count": 7,
   "id": "6847d592",
   "metadata": {},
   "outputs": [],
   "source": [
    "import numpy as np\n",
    "import pandas as pd\n",
    "from sklearn.feature_extraction.text import CountVectorizer\n",
    "from sklearn.metrics.pairwise import linear_kernel, cosine_similarity\n",
    "from ast import literal_eval\n",
    "from nltk.stem.snowball import SnowballStemmer\n",
    "from surprise import Reader, Dataset, SVD\n",
    "import joblib"
   ]
  },
  {
   "cell_type": "code",
   "execution_count": 8,
   "id": "8c6b1b6b",
   "metadata": {
    "scrolled": true
   },
   "outputs": [
    {
     "data": {
      "text/html": [
       "<div>\n",
       "<style scoped>\n",
       "    .dataframe tbody tr th:only-of-type {\n",
       "        vertical-align: middle;\n",
       "    }\n",
       "\n",
       "    .dataframe tbody tr th {\n",
       "        vertical-align: top;\n",
       "    }\n",
       "\n",
       "    .dataframe thead th {\n",
       "        text-align: right;\n",
       "    }\n",
       "</style>\n",
       "<table border=\"1\" class=\"dataframe\">\n",
       "  <thead>\n",
       "    <tr style=\"text-align: right;\">\n",
       "      <th></th>\n",
       "      <th>tmdbId</th>\n",
       "      <th>title</th>\n",
       "      <th>description</th>\n",
       "      <th>year</th>\n",
       "      <th>vote_average</th>\n",
       "      <th>vote_count</th>\n",
       "      <th>soup</th>\n",
       "    </tr>\n",
       "  </thead>\n",
       "  <tbody>\n",
       "    <tr>\n",
       "      <th>0</th>\n",
       "      <td>88224</td>\n",
       "      <td>Toy Story</td>\n",
       "      <td>Led by Woody, Andy's toys live happily in his ...</td>\n",
       "      <td>1995</td>\n",
       "      <td>7.7</td>\n",
       "      <td>5415</td>\n",
       "      <td>jealousi toy boy friendship friend rivalri boy...</td>\n",
       "    </tr>\n",
       "    <tr>\n",
       "      <th>1</th>\n",
       "      <td>42164</td>\n",
       "      <td>Jumanji</td>\n",
       "      <td>When siblings Judy and Peter discover an encha...</td>\n",
       "      <td>1995</td>\n",
       "      <td>6.9</td>\n",
       "      <td>2413</td>\n",
       "      <td>disappear basedonchildren'sbook newhom reclus ...</td>\n",
       "    </tr>\n",
       "    <tr>\n",
       "      <th>2</th>\n",
       "      <td>220</td>\n",
       "      <td>Heat</td>\n",
       "      <td>Obsessive master thief, Neil McCauley leads a ...</td>\n",
       "      <td>1995</td>\n",
       "      <td>7.7</td>\n",
       "      <td>1886</td>\n",
       "      <td>robberi detect bank obsess chase shoot thief h...</td>\n",
       "    </tr>\n",
       "    <tr>\n",
       "      <th>3</th>\n",
       "      <td>23449</td>\n",
       "      <td>GoldenEye</td>\n",
       "      <td>James Bond must unmask the mysterious head of ...</td>\n",
       "      <td>1995</td>\n",
       "      <td>6.6</td>\n",
       "      <td>1194</td>\n",
       "      <td>cuba falselyaccus secretident computervirus se...</td>\n",
       "    </tr>\n",
       "    <tr>\n",
       "      <th>4</th>\n",
       "      <td>9361</td>\n",
       "      <td>Cutthroat Island</td>\n",
       "      <td>Morgan Adams and her slave, William Shaw, are ...</td>\n",
       "      <td>1995</td>\n",
       "      <td>5.7</td>\n",
       "      <td>137</td>\n",
       "      <td>exoticisland treasur map ship pirat geenadavis...</td>\n",
       "    </tr>\n",
       "  </tbody>\n",
       "</table>\n",
       "</div>"
      ],
      "text/plain": [
       "   tmdbId             title  \\\n",
       "0   88224         Toy Story   \n",
       "1   42164           Jumanji   \n",
       "2     220              Heat   \n",
       "3   23449         GoldenEye   \n",
       "4    9361  Cutthroat Island   \n",
       "\n",
       "                                         description  year  vote_average  \\\n",
       "0  Led by Woody, Andy's toys live happily in his ...  1995           7.7   \n",
       "1  When siblings Judy and Peter discover an encha...  1995           6.9   \n",
       "2  Obsessive master thief, Neil McCauley leads a ...  1995           7.7   \n",
       "3  James Bond must unmask the mysterious head of ...  1995           6.6   \n",
       "4  Morgan Adams and her slave, William Shaw, are ...  1995           5.7   \n",
       "\n",
       "   vote_count                                               soup  \n",
       "0        5415  jealousi toy boy friendship friend rivalri boy...  \n",
       "1        2413  disappear basedonchildren'sbook newhom reclus ...  \n",
       "2        1886  robberi detect bank obsess chase shoot thief h...  \n",
       "3        1194  cuba falselyaccus secretident computervirus se...  \n",
       "4         137  exoticisland treasur map ship pirat geenadavis...  "
      ]
     },
     "execution_count": 8,
     "metadata": {},
     "output_type": "execute_result"
    }
   ],
   "source": [
    "md = pd.read_csv('./sources/best_metadata_big.csv')\n",
    "md.head()"
   ]
  },
  {
   "cell_type": "code",
   "execution_count": 9,
   "id": "fb27ba5b",
   "metadata": {},
   "outputs": [
    {
     "name": "stdout",
     "output_type": "stream",
     "text": [
      "<class 'pandas.core.frame.DataFrame'>\n",
      "RangeIndex: 7735 entries, 0 to 7734\n",
      "Data columns (total 7 columns):\n",
      " #   Column        Non-Null Count  Dtype  \n",
      "---  ------        --------------  -----  \n",
      " 0   tmdbId        7735 non-null   int64  \n",
      " 1   title         7735 non-null   object \n",
      " 2   description   7601 non-null   object \n",
      " 3   year          7735 non-null   object \n",
      " 4   vote_average  7735 non-null   float64\n",
      " 5   vote_count    7735 non-null   int64  \n",
      " 6   soup          7735 non-null   object \n",
      "dtypes: float64(1), int64(2), object(4)\n",
      "memory usage: 423.1+ KB\n"
     ]
    }
   ],
   "source": [
    "md.info()"
   ]
  },
  {
   "cell_type": "code",
   "execution_count": 10,
   "id": "ed70ee2b",
   "metadata": {},
   "outputs": [],
   "source": [
    "# create count vectorizer\n",
    "count = CountVectorizer(analyzer='word', ngram_range=(1, 2), min_df=0, stop_words='english')\n",
    "count_matrix = count.fit_transform(md['soup'])\n",
    "cosine_sim = cosine_similarity(count_matrix, count_matrix)\n",
    "\n",
    "indices = pd.Series(md.index, index=md['tmdbId'])\n",
    "\n",
    "# disable copy warning when calling improved_recommendations\n",
    "pd.set_option('mode.chained_assignment', None)"
   ]
  },
  {
   "cell_type": "code",
   "execution_count": 11,
   "id": "4e5ff321",
   "metadata": {},
   "outputs": [],
   "source": [
    "def weighted_rating(x):\n",
    "    v = x['vote_count']\n",
    "    R = x['vote_average']\n",
    "    return (v/(v+m) * R) + (m/(m+v) * C)"
   ]
  },
  {
   "cell_type": "code",
   "execution_count": 12,
   "id": "26b05852",
   "metadata": {},
   "outputs": [],
   "source": [
    "def improved_recommendations(tmdbId):\n",
    "    if tmdbId not in indices:\n",
    "        return 'tmdbId not found'\n",
    "    index = indices[tmdbId]\n",
    "    sim_scores = list(enumerate(cosine_sim[index]))\n",
    "    sim_scores = sorted(sim_scores, key=lambda x: x[1], reverse=True)\n",
    "    sim_scores = sim_scores[1:26]\n",
    "    movie_indices = [i[0] for i in sim_scores]\n",
    "\n",
    "    movies = md.iloc[movie_indices][['tmdbId', 'title', 'vote_count', 'vote_average', 'year']]\n",
    "    vote_counts = movies[movies['vote_count'].notnull()]['vote_count'].astype('int')\n",
    "    vote_averages = movies[movies['vote_average'].notnull()]['vote_average'].astype('int')\n",
    "    m = vote_counts.quantile(0.60)\n",
    "    C = vote_averages.mean()\n",
    "    qualified = movies[(movies['vote_count'] >= m) & (movies['vote_count'].notnull()) & (movies['vote_average'].notnull())]\n",
    "    qualified.vote_count = qualified.vote_count.astype('int')\n",
    "    qualified.vote_count = qualified.vote_count.astype('int')\n",
    "    qualified['wr'] = qualified.apply(weighted_rating, axis=1)\n",
    "    qualified = qualified.sort_values('wr', ascending=False).head(10)\n",
    "    return qualified"
   ]
  },
  {
   "cell_type": "code",
   "execution_count": 14,
   "id": "f871c1b6",
   "metadata": {},
   "outputs": [],
   "source": [
    "# tmdbId for 'The Dark Knight'\n",
    "# improved_recommendations(503736)"
   ]
  },
  {
   "cell_type": "code",
   "execution_count": 15,
   "id": "6419fa7c",
   "metadata": {},
   "outputs": [
    {
     "data": {
      "text/plain": [
       "['./cosine_sim.joblib']"
      ]
     },
     "execution_count": 15,
     "metadata": {},
     "output_type": "execute_result"
    }
   ],
   "source": [
    "# joblib.dump(train_mode, \"./train_mode.joblib\", compress=True)\n",
    "joblib.dump(md, \"./metadata.joblib\", compress=True)\n",
    "joblib.dump(cosine_sim, \"./cosine_sim.joblib\", compress=True)"
   ]
  },
  {
   "cell_type": "code",
   "execution_count": null,
   "id": "5f21bad9",
   "metadata": {},
   "outputs": [],
   "source": []
  }
 ],
 "metadata": {
  "kernelspec": {
   "display_name": "Python 3",
   "language": "python",
   "name": "python3"
  },
  "language_info": {
   "codemirror_mode": {
    "name": "ipython",
    "version": 3
   },
   "file_extension": ".py",
   "mimetype": "text/x-python",
   "name": "python",
   "nbconvert_exporter": "python",
   "pygments_lexer": "ipython3",
   "version": "3.8.5"
  }
 },
 "nbformat": 4,
 "nbformat_minor": 5
}
