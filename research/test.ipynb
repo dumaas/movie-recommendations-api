{
 "cells": [
  {
   "cell_type": "code",
   "execution_count": 36,
   "id": "f9403a8d",
   "metadata": {},
   "outputs": [],
   "source": [
    "import json\n",
    "import numpy as np\n",
    "import pandas as pd\n",
    "from sklearn.feature_extraction.text import TfidfVectorizer, CountVectorizer\n",
    "from sklearn.metrics.pairwise import linear_kernel, cosine_similarity\n",
    "from sklearn.preprocessing import LabelEncoder\n",
    "from ast import literal_eval\n",
    "from nltk.stem.snowball import SnowballStemmer\n",
    "from surprise import Reader, Dataset, SVD\n",
    "import joblib"
   ]
  },
  {
   "cell_type": "code",
   "execution_count": 37,
   "id": "881f4156",
   "metadata": {},
   "outputs": [
    {
     "data": {
      "text/html": [
       "<div>\n",
       "<style scoped>\n",
       "    .dataframe tbody tr th:only-of-type {\n",
       "        vertical-align: middle;\n",
       "    }\n",
       "\n",
       "    .dataframe tbody tr th {\n",
       "        vertical-align: top;\n",
       "    }\n",
       "\n",
       "    .dataframe thead th {\n",
       "        text-align: right;\n",
       "    }\n",
       "</style>\n",
       "<table border=\"1\" class=\"dataframe\">\n",
       "  <thead>\n",
       "    <tr style=\"text-align: right;\">\n",
       "      <th></th>\n",
       "      <th>userId</th>\n",
       "      <th>rating</th>\n",
       "      <th>tmdbId</th>\n",
       "    </tr>\n",
       "  </thead>\n",
       "  <tbody>\n",
       "    <tr>\n",
       "      <th>0</th>\n",
       "      <td>1</td>\n",
       "      <td>2.5</td>\n",
       "      <td>9909.0</td>\n",
       "    </tr>\n",
       "    <tr>\n",
       "      <th>1</th>\n",
       "      <td>7</td>\n",
       "      <td>3.0</td>\n",
       "      <td>9909.0</td>\n",
       "    </tr>\n",
       "    <tr>\n",
       "      <th>2</th>\n",
       "      <td>31</td>\n",
       "      <td>4.0</td>\n",
       "      <td>9909.0</td>\n",
       "    </tr>\n",
       "    <tr>\n",
       "      <th>3</th>\n",
       "      <td>32</td>\n",
       "      <td>4.0</td>\n",
       "      <td>9909.0</td>\n",
       "    </tr>\n",
       "    <tr>\n",
       "      <th>4</th>\n",
       "      <td>36</td>\n",
       "      <td>3.0</td>\n",
       "      <td>9909.0</td>\n",
       "    </tr>\n",
       "  </tbody>\n",
       "</table>\n",
       "</div>"
      ],
      "text/plain": [
       "   userId  rating  tmdbId\n",
       "0       1     2.5  9909.0\n",
       "1       7     3.0  9909.0\n",
       "2      31     4.0  9909.0\n",
       "3      32     4.0  9909.0\n",
       "4      36     3.0  9909.0"
      ]
     },
     "execution_count": 37,
     "metadata": {},
     "output_type": "execute_result"
    }
   ],
   "source": [
    "# load dataset\n",
    "ratings = pd.read_csv('./sources/tmdb_ratings.csv')\n",
    "# isolate columns\n",
    "x_cols = [c for c in ratings.columns]\n",
    "ratings.head()"
   ]
  },
  {
   "cell_type": "code",
   "execution_count": 40,
   "id": "8b943639",
   "metadata": {},
   "outputs": [
    {
     "name": "stdout",
     "output_type": "stream",
     "text": [
      "{'userId': 547.0, 'rating': 4.0, 'tmdbId': 13.0}\n"
     ]
    }
   ],
   "source": [
    "# fill missing values\n",
    "train_mode = dict(ratings.mode().iloc[0])\n",
    "ratings = ratings.fillna(train_mode)\n",
    "print(train_mode)"
   ]
  },
  {
   "cell_type": "code",
   "execution_count": 41,
   "id": "6e6e81ba",
   "metadata": {},
   "outputs": [
    {
     "name": "stdout",
     "output_type": "stream",
     "text": [
      "        userId  rating  tmdbId\n",
      "0            0       4    2553\n",
      "1            6       5    2553\n",
      "2           30       7    2553\n",
      "3           31       7    2553\n",
      "4           35       5    2553\n",
      "...        ...     ...     ...\n",
      "99999      663       4    6507\n",
      "100000     663       6    5431\n",
      "100001     664       5    8292\n",
      "100002     664       1    5821\n",
      "100003     667       1    6612\n",
      "\n",
      "[100004 rows x 3 columns]\n"
     ]
    }
   ],
   "source": [
    "# convert categoricals\n",
    "encoders = {}\n",
    "for column in ['userId', 'rating', 'tmdbId']:\n",
    "    categorical_convert = LabelEncoder()\n",
    "    ratings[column] = categorical_convert.fit_transform(ratings[column])\n",
    "    encoders[column] = categorical_convert\n",
    "print(ratings)"
   ]
  },
  {
   "cell_type": "code",
   "execution_count": 42,
   "id": "6a71cb3c",
   "metadata": {},
   "outputs": [
    {
     "data": {
      "text/plain": [
       "<surprise.prediction_algorithms.matrix_factorization.SVD at 0x7f17c8d9bd60>"
      ]
     },
     "execution_count": 42,
     "metadata": {},
     "output_type": "execute_result"
    }
   ],
   "source": [
    "# Collaborative filtering\n",
    "reader = Reader()\n",
    "data = Dataset.load_from_df(ratings[['userId', 'rating', 'tmdbId']], reader)\n",
    "svd = SVD()\n",
    "trainset = data.build_full_trainset()\n",
    "svd.fit(trainset)"
   ]
  },
  {
   "cell_type": "code",
   "execution_count": 43,
   "id": "3d92da93",
   "metadata": {},
   "outputs": [
    {
     "data": {
      "text/plain": [
       "Prediction(uid=1, iid=302, r_ui=3, est=5, details={'was_impossible': False})"
      ]
     },
     "execution_count": 43,
     "metadata": {},
     "output_type": "execute_result"
    }
   ],
   "source": [
    "# test predict with (userId, tmdbId, etc)\n",
    "svd.predict(1, 302, 3)"
   ]
  },
  {
   "cell_type": "code",
   "execution_count": null,
   "id": "e9ae3bfd",
   "metadata": {},
   "outputs": [],
   "source": []
  }
 ],
 "metadata": {
  "kernelspec": {
   "display_name": "Python 3",
   "language": "python",
   "name": "python3"
  },
  "language_info": {
   "codemirror_mode": {
    "name": "ipython",
    "version": 3
   },
   "file_extension": ".py",
   "mimetype": "text/x-python",
   "name": "python",
   "nbconvert_exporter": "python",
   "pygments_lexer": "ipython3",
   "version": "3.8.5"
  }
 },
 "nbformat": 4,
 "nbformat_minor": 5
}
